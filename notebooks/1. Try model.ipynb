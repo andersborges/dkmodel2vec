{
 "cells": [
  {
   "cell_type": "code",
   "execution_count": null,
   "id": "0437f3e3",
   "metadata": {},
   "outputs": [],
   "source": [
    "%load_ext autoreload\n",
    "%autoreload 2"
   ]
  },
  {
   "cell_type": "code",
   "execution_count": null,
   "id": "2009890e",
   "metadata": {},
   "outputs": [],
   "source": [
    "from llm2vec import LLM2Vec\n",
    "\n",
    "import torch\n",
    "from transformers import AutoTokenizer, AutoModel, AutoConfig\n",
    "from peft import PeftModel\n",
    "\n",
    "# Loading base Llama model, along with custom code that enables bidirectional connections in decoder-only LLMs. MNTP LoRA weights are merged into the base model.\n",
    "tokenizer = AutoTokenizer.from_pretrained(\"jealk/llm2vec-scandi-mntp-v2\")\n",
    "config = AutoConfig.from_pretrained(\n",
    "    \"jealk/llm2vec-scandi-mntp-v2\", trust_remote_code=True\n",
    ")\n",
    "model = AutoModel.from_pretrained(\n",
    "    \"jealk/llm2vec-scandi-mntp-v2\",\n",
    "    trust_remote_code=True,\n",
    "    config=config,\n",
    "    torch_dtype=torch.bfloat16,\n",
    "    device_map=\"cuda\" if torch.cuda.is_available() else \"cpu\",\n",
    ")\n",
    "model = PeftModel.from_pretrained(\n",
    "    model,\n",
    "    \"jealk/llm2vec-scandi-mntp-v2\",\n",
    ")\n",
    "model = model.merge_and_unload()  # This can take several minutes on cpu\n",
    "\n",
    "# Loading supervised model. This loads the trained LoRA weights on top of MNTP model. Hence the final weights are -- Base model + MNTP (LoRA) + supervised (LoRA).\n",
    "model = PeftModel.from_pretrained(model, \"jealk/TTC-L2V-supervised-2\")\n",
    "\n",
    "# Wrapper for encoding and pooling operations\n",
    "l2v = LLM2Vec(model, tokenizer, pooling_mode=\"mean\", max_length=8124)"
   ]
  },
  {
   "cell_type": "code",
   "execution_count": null,
   "id": "9c092a9e",
   "metadata": {},
   "outputs": [],
   "source": [
    "type(l2v)"
   ]
  },
  {
   "cell_type": "code",
   "execution_count": null,
   "id": "403f0e68",
   "metadata": {},
   "outputs": [],
   "source": [
    "# Encoding queries using instructions\n",
    "instruction = \"Givet et spørgsmål, find relevante tekstudsnit, der besvarer det:\"\n",
    "queries = [\n",
    "    [instruction, \"Hvordan påvirker søvn vores koncentrationsevnet\"],\n",
    "    [instruction, \"Hvad skal man være opmærksom på, når man køber brugt cykel\"],\n",
    "]\n",
    "q_reps = l2v.encode(queries)\n",
    "\n",
    "# Encoding documents. Instruction are not required for documents\n",
    "documents = [\n",
    "    \"Forskning viser, at for lidt søvn kan nedsætte både koncentration og hukommelse. Allerede efter én nat med dårlig søvn kan man opleve problemer med at fokusere og træffe beslutninger. En god nattesøvn er derfor vigtig for både mental og fysisk sundhed.\",\n",
    "    \"Når du køber en brugt cykel, bør du tjekke, om stellet har skader eller rust, og om gear og bremser fungerer korrekt. Det er også en god idé at sikre sig, at cyklen ikke er stjålet – det kan du gøre ved at slå stelnummeret op i politiets cykelregister.\",\n",
    "]\n",
    "d_reps = l2v.encode(documents)\n",
    "\n",
    "# Compute cosine similarity\n",
    "q_reps_norm = torch.nn.functional.normalize(q_reps, p=2, dim=1)\n",
    "d_reps_norm = torch.nn.functional.normalize(d_reps, p=2, dim=1)\n",
    "cos_sim = torch.mm(q_reps_norm, d_reps_norm.transpose(0, 1))\n",
    "\n",
    "print(cos_sim)\n",
    "\"\"\"\n",
    "tensor([[0.7161, 0.4021],\n",
    "        [0.4525, 0.7370]])\n",
    "\"\"\""
   ]
  },
  {
   "cell_type": "code",
   "execution_count": null,
   "id": "16d44ecf",
   "metadata": {},
   "outputs": [],
   "source": [
    "a = l2v.encode([\"a\"])"
   ]
  },
  {
   "cell_type": "code",
   "execution_count": null,
   "id": "d5a8cd4d",
   "metadata": {},
   "outputs": [],
   "source": [
    "a"
   ]
  },
  {
   "cell_type": "code",
   "execution_count": null,
   "id": "4395449f",
   "metadata": {},
   "outputs": [],
   "source": []
  }
 ],
 "metadata": {
  "kernelspec": {
   "display_name": "dkmodel2vec",
   "language": "python",
   "name": "python3"
  },
  "language_info": {
   "codemirror_mode": {
    "name": "ipython",
    "version": 3
   },
   "file_extension": ".py",
   "mimetype": "text/x-python",
   "name": "python",
   "nbconvert_exporter": "python",
   "pygments_lexer": "ipython3",
   "version": "3.12.10"
  }
 },
 "nbformat": 4,
 "nbformat_minor": 5
}
