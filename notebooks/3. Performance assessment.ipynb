{
 "cells": [
  {
   "cell_type": "code",
   "execution_count": null,
   "id": "3e9ec7b4",
   "metadata": {},
   "outputs": [],
   "source": [
    "%load_ext autoreload\n",
    "%autoreload 2"
   ]
  },
  {
   "cell_type": "code",
   "execution_count": null,
   "id": "dd186c8c",
   "metadata": {},
   "outputs": [],
   "source": [
    "import numpy as np"
   ]
  },
  {
   "cell_type": "code",
   "execution_count": null,
   "id": "eab4af58",
   "metadata": {},
   "outputs": [],
   "source": [
    "from model2vec import StaticModel\n",
    "\n",
    "# Load a model from the HuggingFace hub (in this case the potion-base-8M model)\n",
    "model = StaticModel.from_pretrained(\"minishlab/potion-base-8M\")\n",
    "qs = [\"It's dangerous to go alone!\", \"I like green apples\"]\n",
    "negs = [\"Danger is imminent when solo. \", \"My favourite fruit is sweet and round\"]\n",
    "poss = [\"I like cats\", \"Walking is slow\"]\n",
    "# Make embeddings\n",
    "question_embeds = model.encode(qs)\n",
    "pos_embeds = model.encode(poss)\n",
    "neg_embeds = model.encode(negs)"
   ]
  },
  {
   "cell_type": "code",
   "execution_count": null,
   "id": "51ee48d3",
   "metadata": {},
   "outputs": [],
   "source": [
    "question_embeds.shape"
   ]
  },
  {
   "cell_type": "code",
   "execution_count": null,
   "id": "d9081ef9",
   "metadata": {},
   "outputs": [],
   "source": [
    "pos_dists = np.linalg.norm(pos_embeds - question_embeds, axis=1)\n",
    "neg_dists = np.linalg.norm(neg_embeds - question_embeds, axis=1)"
   ]
  },
  {
   "cell_type": "code",
   "execution_count": null,
   "id": "868799e2",
   "metadata": {},
   "outputs": [],
   "source": [
    "predictions = (pos_dists < neg_dists).astype(int)\n",
    "predictions"
   ]
  },
  {
   "cell_type": "markdown",
   "id": "fdd2a12b",
   "metadata": {},
   "source": [
    "## BM25"
   ]
  },
  {
   "cell_type": "code",
   "execution_count": null,
   "id": "d91c925b",
   "metadata": {},
   "outputs": [],
   "source": [
    "model.tokenizer.encode(\"I love cake \").tokens"
   ]
  },
  {
   "cell_type": "markdown",
   "id": "35004c3d",
   "metadata": {},
   "source": [
    "Looks good."
   ]
  },
  {
   "cell_type": "code",
   "execution_count": null,
   "id": "1b30a64f",
   "metadata": {},
   "outputs": [],
   "source": [
    "from rank_bm25 import BM25Okapi\n",
    "\n",
    "\n",
    "corpi = [\n",
    "    model.tokenizer.encode(pos_n + neg_n).tokens for pos_n, neg_n in zip(poss, negs)\n",
    "]\n",
    "corpi"
   ]
  },
  {
   "cell_type": "code",
   "execution_count": null,
   "id": "c714f39a",
   "metadata": {},
   "outputs": [],
   "source": [
    "model.tokenizer.encode_batch(qs)"
   ]
  },
  {
   "cell_type": "code",
   "execution_count": null,
   "id": "c1afa44a",
   "metadata": {},
   "outputs": [],
   "source": []
  },
  {
   "cell_type": "code",
   "execution_count": null,
   "id": "0eeaa59a",
   "metadata": {},
   "outputs": [],
   "source": [
    "tokenized_queries = [ts.tokens for ts in model.tokenizer.encode_batch(qs)]\n",
    "\n",
    "\n",
    "bm25 = BM25Okapi(corpi)\n",
    "scores = [bm25.get_scores(q) for q in tokenized_queries]"
   ]
  },
  {
   "cell_type": "code",
   "execution_count": null,
   "id": "ce59966d",
   "metadata": {},
   "outputs": [],
   "source": [
    "bm25 = BM25Okapi(corpi)"
   ]
  },
  {
   "cell_type": "code",
   "execution_count": null,
   "id": "4487d346",
   "metadata": {},
   "outputs": [],
   "source": [
    "bm25.doc_freqs"
   ]
  },
  {
   "cell_type": "code",
   "execution_count": null,
   "id": "17b72936",
   "metadata": {},
   "outputs": [],
   "source": [
    "bm25.get_scores(model.tokenizer.encode(\"I like fruit\").tokens)"
   ]
  },
  {
   "cell_type": "code",
   "execution_count": null,
   "id": "2bd8ddff",
   "metadata": {},
   "outputs": [],
   "source": [
    "from datasets import load_dataset\n",
    "import numpy as np\n",
    "\n",
    "ds = load_dataset(\"DDSC/nordic-embedding-training-data\")"
   ]
  },
  {
   "cell_type": "code",
   "execution_count": null,
   "id": "27b40aa8",
   "metadata": {},
   "outputs": [],
   "source": [
    "dsdk = ds.filter(lambda sample: True if sample[\"language\"] == \"danish\" else False)\n",
    "dsdk = dsdk[\"train\"]\n",
    "dsdk_with_idx = dsdk.add_column(\"idx\", np.arange(len(dsdk)))"
   ]
  },
  {
   "cell_type": "code",
   "execution_count": null,
   "id": "363a75db",
   "metadata": {},
   "outputs": [],
   "source": [
    "# Sentence transformer"
   ]
  },
  {
   "cell_type": "code",
   "execution_count": null,
   "id": "d512c2aa",
   "metadata": {},
   "outputs": [],
   "source": [
    "from dkmodel2vec.evaluator import get_detailed_instruct\n",
    "from sentence_transformers import SentenceTransformer"
   ]
  },
  {
   "cell_type": "code",
   "execution_count": null,
   "id": "51f630a8",
   "metadata": {},
   "outputs": [],
   "source": [
    "model = SentenceTransformer(\"intfloat/multilingual-e5-large-instruct\")"
   ]
  },
  {
   "cell_type": "code",
   "execution_count": null,
   "id": "7e9795be",
   "metadata": {},
   "outputs": [],
   "source": [
    "dsdk"
   ]
  },
  {
   "cell_type": "code",
   "execution_count": null,
   "id": "e3b3b9d4",
   "metadata": {},
   "outputs": [],
   "source": [
    "dataset = dsdk.map(get_detailed_instruct)"
   ]
  },
  {
   "cell_type": "code",
   "execution_count": null,
   "id": "0f829001",
   "metadata": {},
   "outputs": [],
   "source": [
    "model.encode(\"flkajsd\")"
   ]
  },
  {
   "cell_type": "code",
   "execution_count": null,
   "id": "48fb2807",
   "metadata": {},
   "outputs": [],
   "source": []
  }
 ],
 "metadata": {
  "kernelspec": {
   "display_name": "dkmodel2vec",
   "language": "python",
   "name": "python3"
  },
  "language_info": {
   "codemirror_mode": {
    "name": "ipython",
    "version": 3
   },
   "file_extension": ".py",
   "mimetype": "text/x-python",
   "name": "python",
   "nbconvert_exporter": "python",
   "pygments_lexer": "ipython3",
   "version": "3.12.11"
  }
 },
 "nbformat": 4,
 "nbformat_minor": 5
}
