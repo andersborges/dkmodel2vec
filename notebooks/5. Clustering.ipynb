{
 "cells": [
  {
   "cell_type": "code",
   "execution_count": null,
   "id": "2f240369",
   "metadata": {},
   "outputs": [],
   "source": [
    "%load_ext autoreload\n",
    "%autoreload 2"
   ]
  },
  {
   "cell_type": "code",
   "execution_count": null,
   "id": "70563a74",
   "metadata": {},
   "outputs": [],
   "source": [
    "import umap\n",
    "reducer = umap.UMAP()"
   ]
  },
  {
   "cell_type": "code",
   "execution_count": null,
   "id": "5bda1c63",
   "metadata": {},
   "outputs": [],
   "source": [
    "from model2vec.model import StaticModel"
   ]
  },
  {
   "cell_type": "code",
   "execution_count": null,
   "id": "b367fc30",
   "metadata": {},
   "outputs": [],
   "source": [
    "m2v = StaticModel.from_pretrained(\"../scripts/models/dk-llm2vec-model2vec-dim256_strip_upper_case_strip_exotic\")"
   ]
  },
  {
   "cell_type": "code",
   "execution_count": null,
   "id": "7d186558",
   "metadata": {},
   "outputs": [],
   "source": [
    "embeds2d = reducer.fit_transform(m2v.embedding)"
   ]
  },
  {
   "cell_type": "code",
   "execution_count": null,
   "id": "3726ddae",
   "metadata": {},
   "outputs": [],
   "source": [
    "from embedding_atlas.widget import EmbeddingAtlasWidget"
   ]
  },
  {
   "cell_type": "code",
   "execution_count": null,
   "id": "d6152ee0",
   "metadata": {},
   "outputs": [],
   "source": [
    "from datasets import Dataset"
   ]
  },
  {
   "cell_type": "code",
   "execution_count": null,
   "id": "b0b48d43",
   "metadata": {},
   "outputs": [],
   "source": [
    "tokens = sorted(m2v.tokenizer.get_vocab().items(), key=lambda x: x[1])\n",
    "tokens = [{\"index\" : t[1], \"text\" : t[0], \"embedding\" : e_n , \"projection_x\" : e_x, \"projection_y\" : e_y} for t, e_n, e_x, e_y in zip(tokens, m2v.embedding, embeds2d[:,0], embeds2d[:,1])]"
   ]
  },
  {
   "cell_type": "code",
   "execution_count": null,
   "id": "a81c5b80",
   "metadata": {},
   "outputs": [],
   "source": [
    "widget = EmbeddingAtlasWidget(ds, text=\"text\",\n",
    "    x=\"projection_x\", y=\"projection_y\")#, neighbors=\"neighbors\"\n",
    "#)"
   ]
  },
  {
   "cell_type": "code",
   "execution_count": null,
   "id": "241811e4",
   "metadata": {},
   "outputs": [],
   "source": [
    "from datasets import Dataset"
   ]
  },
  {
   "cell_type": "code",
   "execution_count": null,
   "id": "007ed73b",
   "metadata": {},
   "outputs": [],
   "source": [
    "ds = Dataset.from_list(tokens)"
   ]
  },
  {
   "cell_type": "code",
   "execution_count": null,
   "id": "95842203",
   "metadata": {},
   "outputs": [],
   "source": [
    "ds[0]['embedding']"
   ]
  },
  {
   "cell_type": "code",
   "execution_count": null,
   "id": "fa8657d0",
   "metadata": {},
   "outputs": [],
   "source": []
  },
  {
   "cell_type": "code",
   "execution_count": null,
   "id": "1f1f6949",
   "metadata": {},
   "outputs": [],
   "source": []
  },
  {
   "cell_type": "code",
   "execution_count": null,
   "id": "55f4cec8",
   "metadata": {},
   "outputs": [],
   "source": []
  },
  {
   "cell_type": "code",
   "execution_count": null,
   "id": "bcbdb161",
   "metadata": {},
   "outputs": [],
   "source": [
    "embeds2d.shape"
   ]
  },
  {
   "cell_type": "code",
   "execution_count": null,
   "id": "ee87c375",
   "metadata": {},
   "outputs": [],
   "source": []
  },
  {
   "cell_type": "code",
   "execution_count": null,
   "id": "4d25ddff",
   "metadata": {},
   "outputs": [],
   "source": []
  }
 ],
 "metadata": {
  "kernelspec": {
   "display_name": "dkmodel2vec",
   "language": "python",
   "name": "python3"
  },
  "language_info": {
   "codemirror_mode": {
    "name": "ipython",
    "version": 3
   },
   "file_extension": ".py",
   "mimetype": "text/x-python",
   "name": "python",
   "nbconvert_exporter": "python",
   "pygments_lexer": "ipython3",
   "version": "3.12.11"
  }
 },
 "nbformat": 4,
 "nbformat_minor": 5
}
